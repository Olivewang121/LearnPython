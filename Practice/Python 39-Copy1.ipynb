{
 "cells": [
  {
   "cell_type": "markdown",
   "metadata": {},
   "source": [
    "# Fibonacci List"
   ]
  },
  {
   "cell_type": "code",
   "execution_count": 134,
   "metadata": {
    "scrolled": true
   },
   "outputs": [
    {
     "name": "stdout",
     "output_type": "stream",
     "text": [
      "[0]\n",
      "[0, 1, 1]\n",
      "[0, 1, 1, 2, 3, 5]\n",
      "-1\n"
     ]
    }
   ],
   "source": [
    "def FibLst(n):\n",
    "    result=[]\n",
    "    if n<1:\n",
    "        return -1\n",
    "\n",
    "    if n==1:\n",
    "        return [0]\n",
    "    \n",
    "    if n==2:\n",
    "        return [0,1]\n",
    "\n",
    "    if n>=3:\n",
    "        result=[0,1]\n",
    "        i=2\n",
    "        while i<n:\n",
    "            result.append(result[i-2]+result[i-1])\n",
    "            i+=1\n",
    "        return result\n",
    "\n",
    "print(FibLst(1))\n",
    "print(FibLst(3))"
   ]
  },
  {
   "cell_type": "markdown",
   "metadata": {},
   "source": [
    "# Reverse a List"
   ]
  },
  {
   "cell_type": "code",
   "execution_count": 148,
   "metadata": {},
   "outputs": [
    {
     "name": "stdout",
     "output_type": "stream",
     "text": [
      "[4, 8, 9, 1, 3]\n"
     ]
    }
   ],
   "source": [
    "def RevLst(x):\n",
    "    return x[::-1]\n",
    "print(RevLst([3, 1, 9, 8, 4]))"
   ]
  },
  {
   "cell_type": "code",
   "execution_count": 147,
   "metadata": {},
   "outputs": [
    {
     "name": "stdout",
     "output_type": "stream",
     "text": [
      "[4, 8, 9, 1, 3]\n"
     ]
    }
   ],
   "source": [
    "def RevLst(x):\n",
    "    x.reverse()\n",
    "    return x\n",
    "print(RevLst([3, 1, 9, 8, 4]))"
   ]
  },
  {
   "cell_type": "markdown",
   "metadata": {},
   "source": [
    "# if an element is in a list"
   ]
  },
  {
   "cell_type": "code",
   "execution_count": 153,
   "metadata": {},
   "outputs": [
    {
     "name": "stdout",
     "output_type": "stream",
     "text": [
      "True\n",
      "False\n"
     ]
    }
   ],
   "source": [
    "def IsIn(a,b):\n",
    "    if b in a:\n",
    "        return True\n",
    "    else:\n",
    "        return False\n",
    "    \n",
    "print(IsIn([1, 2, 3, 4, 5], 2))\n",
    "print(IsIn([1, 2, 3, 4, 5], 6))"
   ]
  },
  {
   "cell_type": "code",
   "execution_count": 155,
   "metadata": {},
   "outputs": [
    {
     "name": "stdout",
     "output_type": "stream",
     "text": [
      "True\n",
      "False\n"
     ]
    }
   ],
   "source": [
    "def IsIn(a,b):\n",
    "    return b in a\n",
    "\n",
    "print(IsIn([1, 2, 3, 4, 5], 2))\n",
    "print(IsIn([1, 2, 3, 4, 5], 6))"
   ]
  },
  {
   "cell_type": "code",
   "execution_count": 157,
   "metadata": {},
   "outputs": [
    {
     "name": "stdout",
     "output_type": "stream",
     "text": [
      "True\n",
      "False\n"
     ]
    }
   ],
   "source": [
    "def IsIn(a,b):\n",
    "    if a.count(b)>0:\n",
    "        return True\n",
    "    else:\n",
    "        return False\n",
    "    \n",
    "print(IsIn([1, 2, 3, 4, 5], 2))\n",
    "print(IsIn([1, 2, 3, 4, 5], 6))"
   ]
  },
  {
   "cell_type": "code",
   "execution_count": 245,
   "metadata": {},
   "outputs": [
    {
     "name": "stdout",
     "output_type": "stream",
     "text": [
      "false 1\n",
      "False\n",
      "false 1\n",
      "False\n"
     ]
    }
   ],
   "source": [
    "def IsIn(a,b):\n",
    "    for i in a:\n",
    "        if i==b:\n",
    "            print(\"true\",i)\n",
    "            return True\n",
    "        else:\n",
    "            print(\"false\",i)\n",
    "            return False\n",
    "        \n",
    "    \n",
    "print(IsIn([1, 2, 3, 4, 5], 2))\n",
    "print(IsIn([1, 2, 3, 4, 5], 6))"
   ]
  },
  {
   "cell_type": "code",
   "execution_count": 246,
   "metadata": {},
   "outputs": [
    {
     "name": "stdout",
     "output_type": "stream",
     "text": [
      "True\n",
      "False\n"
     ]
    }
   ],
   "source": [
    "def IsIn(a,b):\n",
    "    for i in a:\n",
    "        if i==b:\n",
    "            return True\n",
    "    return False\n",
    "        \n",
    "    \n",
    "print(IsIn([1, 2, 3, 4, 5], 2))\n",
    "print(IsIn([1, 2, 3, 4, 5], 6))"
   ]
  },
  {
   "cell_type": "markdown",
   "metadata": {},
   "source": [
    "# Remove an Element from a List"
   ]
  },
  {
   "cell_type": "code",
   "execution_count": 183,
   "metadata": {},
   "outputs": [
    {
     "name": "stdout",
     "output_type": "stream",
     "text": [
      "[1, 3, 4, 5]\n",
      "[1, 2, 3, 4, 5]\n",
      "[1, 2, 3, 4, 5]\n"
     ]
    }
   ],
   "source": [
    "def RmEl(a,b):\n",
    "    if b in a:\n",
    "        a.remove(b)\n",
    "    return a\n",
    "    \n",
    "\n",
    "print(RmEl([1, 2, 3, 4, 5], 2))\n",
    "print(RmEl([1, 2, 3, 4, 5], 6))\n",
    "print(RmEl([1, 2, 3, 3, 4, 5], 3))"
   ]
  },
  {
   "cell_type": "code",
   "execution_count": 191,
   "metadata": {},
   "outputs": [
    {
     "name": "stdout",
     "output_type": "stream",
     "text": [
      "[1, 3, 4, 5]\n",
      "[1, 2, 3, 4, 5]\n",
      "[1, 2, 3, 4, 5]\n"
     ]
    }
   ],
   "source": [
    "def RmEl(a,b):\n",
    "    for i in a:\n",
    "        if i==b:\n",
    "            a.remove(i)\n",
    "    return a\n",
    "        \n",
    "print(RmEl([1, 2, 3, 4, 5], 2))\n",
    "print(RmEl([1, 2, 3, 4, 5], 6))\n",
    "print(RmEl([1, 2, 3, 3, 4, 5], 3))"
   ]
  },
  {
   "cell_type": "markdown",
   "metadata": {},
   "source": [
    "# Separate Numbers"
   ]
  },
  {
   "cell_type": "code",
   "execution_count": 233,
   "metadata": {},
   "outputs": [
    {
     "name": "stdout",
     "output_type": "stream",
     "text": [
      "[2, 4, 6, 1, 3, 5]\n",
      "[1, 3, 5]\n",
      "[2, 4, 6]\n"
     ]
    }
   ],
   "source": [
    "def SepNum(x):\n",
    "    Even=[]\n",
    "    Odd=[]\n",
    "    for i in x:\n",
    "        if i%2==0:\n",
    "            Even.append(i)\n",
    "        else:\n",
    "            Odd.append(i)\n",
    "    Even.extend(Odd)\n",
    "    return Even\n",
    "\n",
    "print(SepNum([1, 2, 3, 4, 5, 6]))\n",
    "print(SepNum([1,3,5]))\n",
    "print(SepNum([2,4,6]))"
   ]
  },
  {
   "cell_type": "markdown",
   "metadata": {},
   "source": [
    "# Remove All the Duplicates from a List"
   ]
  },
  {
   "cell_type": "code",
   "execution_count": 241,
   "metadata": {},
   "outputs": [
    {
     "name": "stdout",
     "output_type": "stream",
     "text": [
      "[3, 1, 2, 4, 5, 6]\n",
      "[1, 3, 5]\n"
     ]
    }
   ],
   "source": [
    "def RmDuplicate(x):\n",
    "    result=[]\n",
    "    for i in x:\n",
    "        if i not in result:\n",
    "            result.append(i)\n",
    "    return result\n",
    "print(RmDuplicate([3, 1, 2, 3, 4, 5, 6]))\n",
    "print(RmDuplicate([1, 3, 5]))"
   ]
  },
  {
   "cell_type": "code",
   "execution_count": 243,
   "metadata": {
    "scrolled": true
   },
   "outputs": [
    {
     "name": "stdout",
     "output_type": "stream",
     "text": [
      "[1, 2, 3, 4, 5, 6]\n",
      "[1, 3, 5]\n"
     ]
    }
   ],
   "source": [
    "def RmDuplicate(x):\n",
    "    for i in x:\n",
    "        if x.count(i)>1:\n",
    "            x.remove(i)\n",
    "    return x\n",
    "print(RmDuplicate([3, 1, 2, 3, 4, 5, 6]))\n",
    "print(RmDuplicate([1, 3, 5]))"
   ]
  },
  {
   "cell_type": "markdown",
   "metadata": {},
   "source": [
    "# Insert a Number in a Sorted List"
   ]
  },
  {
   "cell_type": "code",
   "execution_count": 261,
   "metadata": {},
   "outputs": [
    {
     "name": "stdout",
     "output_type": "stream",
     "text": [
      "[1, 2, 3, 3, 4, 5, 6]\n",
      "[1, 2, 3, 4, 5, 6, 7]\n",
      "[-1, 1, 2, 3, 4, 5, 6]\n"
     ]
    }
   ],
   "source": [
    "def NumInsert(a,b):\n",
    "    for i in a:\n",
    "        if i>b:\n",
    "            a.insert(a.index(i),b)\n",
    "            return a\n",
    "    a.append(b)\n",
    "    return a\n",
    "\n",
    "print(NumInsert([1, 2, 3, 4, 5, 6], 3))\n",
    "print(NumInsert([1, 2, 3, 4, 5, 6], 7))\n",
    "print(NumInsert([1, 2, 3, 4, 5, 6], -1))"
   ]
  },
  {
   "cell_type": "markdown",
   "metadata": {},
   "source": [
    "# Remove duplicates from a sorted list"
   ]
  },
  {
   "cell_type": "code",
   "execution_count": 264,
   "metadata": {},
   "outputs": [
    {
     "name": "stdout",
     "output_type": "stream",
     "text": [
      "[1, 2, 3, 4, 5, 6]\n",
      "[1, 2, 3, 4, 5, 6]\n"
     ]
    }
   ],
   "source": [
    "def SortRm(x):\n",
    "    for i in x:\n",
    "        if x.count(i)>1:\n",
    "            x.remove(i)\n",
    "    return x\n",
    "\n",
    "print(SortRm([1, 2, 2, 3, 4, 4, 5, 6]))\n",
    "print(SortRm([1, 2, 3, 4,  5, 6]))"
   ]
  },
  {
   "cell_type": "code",
   "execution_count": null,
   "metadata": {},
   "outputs": [],
   "source": []
  },
  {
   "cell_type": "code",
   "execution_count": 266,
   "metadata": {},
   "outputs": [
    {
     "name": "stdout",
     "output_type": "stream",
     "text": [
      "[1, 2, 3, 4, 5, 6]\n",
      "[1, 2, 3, 4, 5, 6]\n"
     ]
    }
   ],
   "source": [
    "def MergeSorted(a,b):\n",
    "    a.extend(b)\n",
    "    a.sort()\n",
    "    return a\n",
    "\n",
    "print(MergeSorted([1, 3, 5], [2, 4, 6]))\n",
    "print(MergeSorted([1, 2, 3], [4, 5, 6]))"
   ]
  },
  {
   "cell_type": "markdown",
   "metadata": {},
   "source": [
    "# Build a function Lst2Num which convert a number list into one number."
   ]
  },
  {
   "cell_type": "code",
   "execution_count": 269,
   "metadata": {},
   "outputs": [
    {
     "name": "stdout",
     "output_type": "stream",
     "text": [
      "135\n",
      "1203\n"
     ]
    }
   ],
   "source": [
    "def Lst2Num(x):\n",
    "    result=0\n",
    "    i=0\n",
    "    while i<len(x):\n",
    "        result=result*10\n",
    "        result+=x[i]\n",
    "        i+=1\n",
    "    return result\n",
    "\n",
    "print(Lst2Num([1, 3, 5]))\n",
    "print(Lst2Num([0, 1, 2, 0, 3]))"
   ]
  },
  {
   "cell_type": "code",
   "execution_count": 277,
   "metadata": {},
   "outputs": [
    {
     "name": "stdout",
     "output_type": "stream",
     "text": [
      "135\n",
      "1203\n"
     ]
    }
   ],
   "source": [
    "def lst2num(x):\n",
    "    return sum([a*10**(len(x)-i-1) for i,a in enumerate(x)])\n",
    "    #strx = \"\".join([str(i) for i in x])\n",
    "#     return int(strx)\n",
    "\n",
    "print(lst2num([1, 3, 5]))\n",
    "print(lst2num([0, 1, 2, 0, 3]))"
   ]
  },
  {
   "cell_type": "code",
   "execution_count": 275,
   "metadata": {},
   "outputs": [
    {
     "name": "stdout",
     "output_type": "stream",
     "text": [
      "0 1\n",
      "1 2\n",
      "2 3\n",
      "3 4\n"
     ]
    }
   ],
   "source": [
    "for i, a in enumerate([1,2,3,4]):\n",
    "    print(i,a)"
   ]
  },
  {
   "cell_type": "markdown",
   "metadata": {},
   "source": [
    "# Maximum Stock Gain"
   ]
  },
  {
   "cell_type": "code",
   "execution_count": 1,
   "metadata": {},
   "outputs": [
    {
     "data": {
      "text/plain": [
       "1"
      ]
     },
     "execution_count": 1,
     "metadata": {},
     "output_type": "execute_result"
    }
   ],
   "source": [
    "lst=[1,2,3,4,5]\n",
    "min(lst)"
   ]
  },
  {
   "cell_type": "code",
   "execution_count": 4,
   "metadata": {},
   "outputs": [
    {
     "name": "stdout",
     "output_type": "stream",
     "text": [
      "6\n",
      "0\n"
     ]
    }
   ],
   "source": [
    "def MaxGain(x):\n",
    "    max_value, max_profit=0,0\n",
    "    for i in reversed(x):\n",
    "        max_value=max(max_value,i)\n",
    "        current_profit=max_value-i\n",
    "        max_profit=max(max_profit,current_profit)\n",
    "    return max_profit\n",
    "\n",
    "print(MaxGain([3, 4, 1, 5, 7, 2]))\n",
    "print(MaxGain([5, 4, 3, 2, 1]))"
   ]
  },
  {
   "cell_type": "markdown",
   "metadata": {},
   "source": [
    "# Sort List of Lists"
   ]
  },
  {
   "cell_type": "code",
   "execution_count": 12,
   "metadata": {},
   "outputs": [
    {
     "name": "stdout",
     "output_type": "stream",
     "text": [
      "[[3], [2, 4], [1, 3, 5], [9, 7]]\n"
     ]
    }
   ],
   "source": [
    "def last(n):\n",
    "    return n[-1]\n",
    "\n",
    "def SortLL(x):\n",
    "    return sorted(x,key=last)\n",
    "\n",
    "print(SortLL([[1, 3, 5], [2, 4], [9, 7], [3]]))"
   ]
  },
  {
   "cell_type": "code",
   "execution_count": 13,
   "metadata": {},
   "outputs": [
    {
     "name": "stdout",
     "output_type": "stream",
     "text": [
      "[[3], [2, 4], [1, 3, 5], [9, 7]]\n"
     ]
    }
   ],
   "source": [
    "def SortLL(x):\n",
    "    for i in range(len(x)):\n",
    "        for j in range(len(x)-1-i):\n",
    "            if x[j][-1]>x[j+1][-1]:\n",
    "                temp=x[j]\n",
    "                x[j]=x[j+1]\n",
    "                x[j+1]=temp\n",
    "    return x\n",
    "\n",
    "print(SortLL([[1, 3, 5], [2, 4], [9, 7], [3]]))"
   ]
  },
  {
   "cell_type": "code",
   "execution_count": 18,
   "metadata": {},
   "outputs": [
    {
     "name": "stdout",
     "output_type": "stream",
     "text": [
      "[[3], [2, 4], [1, 3, 5], [9, 7]]\n"
     ]
    }
   ],
   "source": [
    "def SortLL(x):\n",
    "    return sorted(x, key = lambda x: x[-1])\n",
    "    \n",
    "print(SortLL([[1, 3, 5], [2, 4], [9, 7], [3]]))"
   ]
  },
  {
   "cell_type": "markdown",
   "metadata": {},
   "source": [
    "# Pascals Triangle"
   ]
  },
  {
   "cell_type": "code",
   "execution_count": 19,
   "metadata": {},
   "outputs": [
    {
     "name": "stdout",
     "output_type": "stream",
     "text": [
      "[2, 4, 6]\n"
     ]
    }
   ],
   "source": [
    "def even_items(iterable):\n",
    "...     return [v for i, v in enumerate(iterable, start=1) if not i % 2]\n",
    "print(even_items([1,2,3,4,5,6]))"
   ]
  },
  {
   "cell_type": "code",
   "execution_count": 30,
   "metadata": {},
   "outputs": [
    {
     "name": "stdout",
     "output_type": "stream",
     "text": [
      "[1, 3, 3, 1]\n",
      "[1, 5, 10, 10, 5, 1]\n"
     ]
    }
   ],
   "source": [
    "def PascalsT(rowIndex) :\n",
    " \n",
    "    currow = []\n",
    "    currow.append(1)\n",
    "     \n",
    "    if (rowIndex == 0) :\n",
    "        return currow\n",
    "     \n",
    "    prev = PascalsT(rowIndex - 1)\n",
    " \n",
    "    for i in range(1, len(prev)) :\n",
    "        curr = prev[i - 1] + prev[i]\n",
    "        currow.append(curr)\n",
    " \n",
    "    currow.append(1)\n",
    "    return currow\n",
    "        \n",
    "print(PascalsT(3))\n",
    "print(PascalsT(5))"
   ]
  },
  {
   "cell_type": "code",
   "execution_count": 33,
   "metadata": {},
   "outputs": [
    {
     "name": "stdout",
     "output_type": "stream",
     "text": [
      "[[1], [1, 1], [1, 2, 1]]\n",
      "[[1], [1, 1], [1, 2, 1], [1, 3, 3, 1], [1, 4, 6, 4, 1]]\n"
     ]
    }
   ],
   "source": [
    "def pascalsTriangle(x):\n",
    "  triangle = []\n",
    "  row = []\n",
    "  prev_row = []\n",
    "  for i in range(0, x + 1):\n",
    "    row = [j > 0 and j < i - 1 and i > 2 and prev_row[j-1] + prev_row[j] or 1 for j in range(0, i)]\n",
    "    prev_row = row\n",
    "    triangle += [row]\n",
    "  return triangle[1:]\n",
    "\n",
    "print(pascalsTriangle(3))\n",
    "print(pascalsTriangle(5))"
   ]
  },
  {
   "cell_type": "code",
   "execution_count": 34,
   "metadata": {
    "scrolled": true
   },
   "outputs": [
    {
     "name": "stdout",
     "output_type": "stream",
     "text": [
      "[1]\n",
      "[1, 1]\n",
      "[1, 2, 1]\n",
      "[1, 3, 3, 1]\n",
      "[1, 4, 6, 4, 1]\n",
      "[1, 5, 10, 10, 5, 1]\n",
      "[1, 6, 15, 20, 15, 6, 1]\n",
      "[1, 7, 21, 35, 35, 21, 7, 1]\n",
      "[1, 8, 28, 56, 70, 56, 28, 8, 1]\n",
      "[1, 9, 36, 84, 126, 126, 84, 36, 9, 1]\n"
     ]
    }
   ],
   "source": [
    "list=[1] \n",
    "for i in range(10): \n",
    "    print(list) \n",
    "    newlist=[] \n",
    "    newlist.append(list[0]) \n",
    "    for i in range(len(list)-1): \n",
    "        newlist.append(list[i]+list[i+1]) \n",
    "    newlist.append(list[-1]) \n",
    "    list=newlist "
   ]
  },
  {
   "cell_type": "markdown",
   "metadata": {},
   "source": [
    "# All Red"
   ]
  },
  {
   "cell_type": "code",
   "execution_count": 55,
   "metadata": {},
   "outputs": [
    {
     "ename": "AttributeError",
     "evalue": "'NoneType' object has no attribute 'find'",
     "output_type": "error",
     "traceback": [
      "\u001b[1;31m---------------------------------------------------------------------------\u001b[0m",
      "\u001b[1;31mAttributeError\u001b[0m                            Traceback (most recent call last)",
      "\u001b[1;32m~\\AppData\\Local\\Temp/ipykernel_16808/1167237070.py\u001b[0m in \u001b[0;36m<module>\u001b[1;34m\u001b[0m\n\u001b[0;32m      1\u001b[0m \u001b[0ma\u001b[0m\u001b[1;33m=\u001b[0m\u001b[1;32mNone\u001b[0m\u001b[1;33m\u001b[0m\u001b[1;33m\u001b[0m\u001b[0m\n\u001b[1;32m----> 2\u001b[1;33m \u001b[0ma\u001b[0m\u001b[1;33m.\u001b[0m\u001b[0mfind\u001b[0m\u001b[1;33m(\u001b[0m\u001b[1;34m'red'\u001b[0m\u001b[1;33m)\u001b[0m\u001b[1;33m\u001b[0m\u001b[1;33m\u001b[0m\u001b[0m\n\u001b[0m",
      "\u001b[1;31mAttributeError\u001b[0m: 'NoneType' object has no attribute 'find'"
     ]
    }
   ],
   "source": [
    "a=None\n",
    "a.find('red')"
   ]
  },
  {
   "cell_type": "code",
   "execution_count": 73,
   "metadata": {
    "scrolled": true
   },
   "outputs": [
    {
     "name": "stdout",
     "output_type": "stream",
     "text": [
      "True\n",
      "False\n",
      "False\n"
     ]
    }
   ],
   "source": [
    "def AllRed(x):\n",
    "    if not x:\n",
    "        return False\n",
    "    else:\n",
    "        for i in x:\n",
    "            if i.find(\"red\")==-1:\n",
    "                return False\n",
    "    return True\n",
    "\n",
    "print(AllRed([\"red hat\", \"a pair of red shoes\", \"three red apples\"]))\n",
    "print(AllRed([\"red hat\", \"white shirt\", \"black eyes\"]))\n",
    "print(AllRed([]))"
   ]
  },
  {
   "cell_type": "code",
   "execution_count": 49,
   "metadata": {},
   "outputs": [
    {
     "name": "stdout",
     "output_type": "stream",
     "text": [
      "None\n"
     ]
    }
   ],
   "source": [
    "def aaa(x):\n",
    "    for i in x:\n",
    "        print(i)\n",
    "print(aaa())"
   ]
  },
  {
   "cell_type": "markdown",
   "metadata": {},
   "source": [
    "# reverse a string"
   ]
  },
  {
   "cell_type": "code",
   "execution_count": 75,
   "metadata": {
    "scrolled": true
   },
   "outputs": [
    {
     "name": "stdout",
     "output_type": "stream",
     "text": [
      "dcba\n"
     ]
    }
   ],
   "source": [
    "def RevStr(x):\n",
    "    return x[::-1]\n",
    "\n",
    "print(RevStr(\"abcd\"))"
   ]
  },
  {
   "cell_type": "code",
   "execution_count": 80,
   "metadata": {},
   "outputs": [
    {
     "name": "stdout",
     "output_type": "stream",
     "text": [
      "dcba\n"
     ]
    }
   ],
   "source": [
    "def RevStr(x):\n",
    "    result=\"\"\n",
    "    i=len(x)-1\n",
    "    while i>=0:\n",
    "        result+=x[i]\n",
    "        i-=1\n",
    "    return result\n",
    "\n",
    "print(RevStr(\"abcd\"))"
   ]
  },
  {
   "cell_type": "markdown",
   "metadata": {},
   "source": [
    "# Reverse Sentence"
   ]
  },
  {
   "cell_type": "code",
   "execution_count": 1,
   "metadata": {},
   "outputs": [
    {
     "ename": "TypeError",
     "evalue": "'int' object is not iterable",
     "output_type": "error",
     "traceback": [
      "\u001b[1;31m---------------------------------------------------------------------------\u001b[0m",
      "\u001b[1;31mTypeError\u001b[0m                                 Traceback (most recent call last)",
      "\u001b[1;32m~\\AppData\\Local\\Temp/ipykernel_1296/3961027859.py\u001b[0m in \u001b[0;36m<module>\u001b[1;34m\u001b[0m\n\u001b[0;32m      3\u001b[0m \u001b[0mresult\u001b[0m\u001b[1;33m=\u001b[0m\u001b[1;34m\"\"\u001b[0m\u001b[1;33m\u001b[0m\u001b[1;33m\u001b[0m\u001b[0m\n\u001b[0;32m      4\u001b[0m \u001b[1;32mfor\u001b[0m \u001b[0mi\u001b[0m \u001b[1;32min\u001b[0m \u001b[0ma\u001b[0m\u001b[1;33m:\u001b[0m\u001b[1;33m\u001b[0m\u001b[1;33m\u001b[0m\u001b[0m\n\u001b[1;32m----> 5\u001b[1;33m     \u001b[1;32mfor\u001b[0m \u001b[0mj\u001b[0m \u001b[1;32min\u001b[0m \u001b[0mlen\u001b[0m\u001b[1;33m(\u001b[0m\u001b[0mi\u001b[0m\u001b[1;33m)\u001b[0m\u001b[1;33m:\u001b[0m\u001b[1;33m\u001b[0m\u001b[1;33m\u001b[0m\u001b[0m\n\u001b[0m\u001b[0;32m      6\u001b[0m         \u001b[0mresult\u001b[0m\u001b[1;33m+=\u001b[0m\u001b[0mi\u001b[0m\u001b[1;33m[\u001b[0m\u001b[1;33m-\u001b[0m\u001b[1;36m1\u001b[0m\u001b[1;33m-\u001b[0m\u001b[0mj\u001b[0m\u001b[1;33m]\u001b[0m\u001b[1;33m\u001b[0m\u001b[1;33m\u001b[0m\u001b[0m\n\u001b[0;32m      7\u001b[0m \u001b[1;32mreturn\u001b[0m \u001b[0mresult\u001b[0m\u001b[1;33m\u001b[0m\u001b[1;33m\u001b[0m\u001b[0m\n",
      "\u001b[1;31mTypeError\u001b[0m: 'int' object is not iterable"
     ]
    }
   ],
   "source": [
    "a=\"we are all friends\"\n",
    "a.split(\" \")\n",
    "result=\"\"\n",
    "for i in a:\n",
    "    for j in len(i):\n",
    "        result+=i[-1-j]\n",
    "return result\n",
    "    "
   ]
  },
  {
   "cell_type": "code",
   "execution_count": 91,
   "metadata": {},
   "outputs": [
    {
     "name": "stdout",
     "output_type": "stream",
     "text": [
      "['friends', 'all', 'are', 'we']\n",
      "friends all are we\n"
     ]
    }
   ],
   "source": [
    "def RevSen(x):\n",
    "    lst=x.split(\" \")\n",
    "    lst.reverse()\n",
    "    return \" \".join(lst)\n",
    "\n",
    "print(RevSen(\"we are all friends\"))"
   ]
  },
  {
   "cell_type": "code",
   "execution_count": 99,
   "metadata": {},
   "outputs": [
    {
     "name": "stdout",
     "output_type": "stream",
     "text": [
      " friends all are we\n"
     ]
    }
   ],
   "source": [
    "def RevSen(x):\n",
    "    lst=x.split(\" \")\n",
    "    lst.reverse()\n",
    "    result=\"\"\n",
    "    for i in lst:\n",
    "        result+=\" \"+i\n",
    "    return result\n",
    "\n",
    "print(RevSen(\"we are all friends\"))"
   ]
  },
  {
   "cell_type": "markdown",
   "metadata": {},
   "source": [
    "# Reverse Words"
   ]
  },
  {
   "cell_type": "code",
   "execution_count": 5,
   "metadata": {},
   "outputs": [
    {
     "name": "stdout",
     "output_type": "stream",
     "text": [
      "ew era lla sdneirf \n"
     ]
    }
   ],
   "source": [
    "def RevSen(x):\n",
    "    lst=x.split(\" \")\n",
    "    result=\"\"\n",
    "    for i in lst:\n",
    "        for j in range(len(i)):\n",
    "            result+=i[-1-j]\n",
    "        result+=\" \"\n",
    "    return result\n",
    "\n",
    "print(RevSen(\"we are all friends\"))"
   ]
  },
  {
   "cell_type": "markdown",
   "metadata": {},
   "source": [
    "# Capitalize First Letters"
   ]
  },
  {
   "cell_type": "code",
   "execution_count": 8,
   "metadata": {},
   "outputs": [
    {
     "name": "stdout",
     "output_type": "stream",
     "text": [
      "We Are All Friends\n"
     ]
    }
   ],
   "source": [
    "def CapLett(x):\n",
    "    lst=x.split(\",\")\n",
    "    result=\"\"\n",
    "    for i in lst:\n",
    "        result+=i.title()\n",
    "    return result\n",
    "    \n",
    "print(CapLett(\"we are all friends\"))"
   ]
  },
  {
   "cell_type": "markdown",
   "metadata": {},
   "source": [
    "# Remove Punctuations"
   ]
  },
  {
   "cell_type": "code",
   "execution_count": 18,
   "metadata": {},
   "outputs": [
    {
     "name": "stdout",
     "output_type": "stream",
     "text": [
      "He said that is great\n"
     ]
    }
   ],
   "source": [
    "import string\n",
    "def RmPunct(x):\n",
    "    a=string.punctuation\n",
    "    for i in x:\n",
    "        if i in a:\n",
    "            x=x.replace(i,\"\")\n",
    "    return x\n",
    "print(RmPunct(\"He said, that is great!!\"))"
   ]
  },
  {
   "cell_type": "code",
   "execution_count": 23,
   "metadata": {
    "scrolled": true
   },
   "outputs": [
    {
     "name": "stdout",
     "output_type": "stream",
     "text": [
      "He said that is great\n"
     ]
    }
   ],
   "source": [
    "import string\n",
    "def RmPunct(x):\n",
    "    a=x.translate(str.maketrans(\"\",\"\",string.punctuation))\n",
    "    return a\n",
    "print(RmPunct(\"He said, that is great!!\"))"
   ]
  },
  {
   "cell_type": "markdown",
   "metadata": {},
   "source": [
    "# N Grams"
   ]
  },
  {
   "cell_type": "code",
   "execution_count": 66,
   "metadata": {},
   "outputs": [
    {
     "name": "stdout",
     "output_type": "stream",
     "text": [
      "['te', 'ec', 'ch', 'hl', 'le', 'en', 'nt']\n",
      "['abc']\n",
      "[]\n",
      "['a', 'b', 'c']\n"
     ]
    }
   ],
   "source": [
    "def NGram(s,n):\n",
    "    result=[]\n",
    "    for i in range(len(s)):\n",
    "        if i+n<=len(s):\n",
    "            result.append(s[i:i+n])\n",
    "    return result\n",
    "        \n",
    "print(NGram(\"techlent\", 2))\n",
    "print(NGram(\"abc\", 3))\n",
    "print(NGram(\"abc\", 4))\n",
    "print(NGram(\"abc\", 1))"
   ]
  },
  {
   "cell_type": "markdown",
   "metadata": {},
   "source": [
    "# Palindrome"
   ]
  },
  {
   "cell_type": "code",
   "execution_count": 67,
   "metadata": {},
   "outputs": [
    {
     "name": "stdout",
     "output_type": "stream",
     "text": [
      "True\n",
      "True\n",
      "True\n",
      "True\n",
      "False\n"
     ]
    }
   ],
   "source": [
    "def isPalindrome(x):\n",
    "    for i in range(len(x)):\n",
    "        if x[i]!=x[-1-i]:\n",
    "            return False\n",
    "    return True\n",
    "\n",
    "print(isPalindrome(\"abcba\")) \n",
    "print(isPalindrome(\"abba\")) \n",
    "print(isPalindrome(\"a\")) \n",
    "print(isPalindrome(\"\")) \n",
    "print(isPalindrome(\"abcd\")) "
   ]
  },
  {
   "cell_type": "markdown",
   "metadata": {},
   "source": [
    "# Letter Palindrome"
   ]
  },
  {
   "cell_type": "code",
   "execution_count": 75,
   "metadata": {},
   "outputs": [
    {
     "name": "stdout",
     "output_type": "stream",
     "text": [
      "True\n",
      "True\n",
      "False\n"
     ]
    }
   ],
   "source": [
    "def LettPalind(x):\n",
    "    import string\n",
    "    x=x.translate(str.maketrans(\"\",\"\",string.punctuation))\n",
    "    x=x.replace(\" \",\"\")\n",
    "    x=x.lower()\n",
    "    for i in range(len(x)):\n",
    "        if x[i]!=x[-1-i]:\n",
    "            return False\n",
    "    return True\n",
    "\n",
    "print(LettPalind(\"909@,.\"))\n",
    "print(LettPalind(\"He is Sieh!\"))\n",
    "print(LettPalind(\"His name is Sieh.\"))"
   ]
  },
  {
   "cell_type": "markdown",
   "metadata": {},
   "source": [
    "# Valid Parenthesis"
   ]
  },
  {
   "cell_type": "code",
   "execution_count": 79,
   "metadata": {
    "scrolled": true
   },
   "outputs": [
    {
     "name": "stdout",
     "output_type": "stream",
     "text": [
      "True\n",
      "True\n",
      "False\n",
      "False\n"
     ]
    }
   ],
   "source": [
    "def ValidParenthesis(x):\n",
    "    if len(x)%2!=0:\n",
    "        return False\n",
    "    else:\n",
    "        while \"()\" in x:\n",
    "            x=x.replace(\"()\",\"\")\n",
    "        if x==\"\":\n",
    "            return True\n",
    "        else:\n",
    "            return False\n",
    "       \n",
    "    \n",
    "print(ValidParenthesis(\"((()))()\"))\n",
    "print(ValidParenthesis(\"()()()\"))\n",
    "print(ValidParenthesis(\"()()()(\"))\n",
    "print(ValidParenthesis(\"((())))\"))"
   ]
  },
  {
   "cell_type": "markdown",
   "metadata": {},
   "source": [
    "stack=[1,2,3,4,5]\n",
    "lst=stack.pop()\n",
    "print(stack)\n",
    "print(lst)"
   ]
  },
  {
   "cell_type": "code",
   "execution_count": 89,
   "metadata": {},
   "outputs": [
    {
     "name": "stdout",
     "output_type": "stream",
     "text": [
      "True\n",
      "True\n",
      "False\n",
      "False\n"
     ]
    }
   ],
   "source": [
    "def ValidParenthesis(x):\n",
    "    stack=[]\n",
    "    d={\")\":\"(\"}\n",
    "    for i in x:\n",
    "        if i in d.values():\n",
    "            stack.append(i)\n",
    "        elif i in d.keys():\n",
    "            if stack==[] or d[i]!=stack.pop():\n",
    "                return False\n",
    "        else:\n",
    "            return False\n",
    "    return stack==[]\n",
    "\n",
    "print(ValidParenthesis(\"((()))()\"))\n",
    "print(ValidParenthesis(\"()()()\"))\n",
    "print(ValidParenthesis(\"()()()(\"))\n",
    "print(ValidParenthesis(\"((())))\"))"
   ]
  },
  {
   "cell_type": "markdown",
   "metadata": {},
   "source": [
    "# Build a function kvSwitch to switch the keys and values of a dictionary"
   ]
  },
  {
   "cell_type": "code",
   "execution_count": 1,
   "metadata": {},
   "outputs": [
    {
     "name": "stdout",
     "output_type": "stream",
     "text": [
      "{'1': 'a', '2': 'b', '3': 'c'}\n"
     ]
    }
   ],
   "source": [
    "def kvSwitch(x):\n",
    "    result={}\n",
    "    for k,v in x.items():\n",
    "        result[v]=k\n",
    "    return result\n",
    "print(kvSwitch({\"a\": \"1\", \"b\": \"2\", \"c\": \"3\"}))"
   ]
  },
  {
   "cell_type": "code",
   "execution_count": 6,
   "metadata": {},
   "outputs": [
    {
     "name": "stdout",
     "output_type": "stream",
     "text": [
      "{'1': 'a', '2': 'b', '3': 'c'}\n"
     ]
    }
   ],
   "source": [
    "def kvSwitch(x):\n",
    "    result=dict((v,k) for k,v in x.items())\n",
    "    return result\n",
    "    \n",
    "print(kvSwitch({\"a\": \"1\", \"b\": \"2\", \"c\": \"3\"}))"
   ]
  },
  {
   "cell_type": "markdown",
   "metadata": {},
   "source": [
    "# Build a function RankK which takes a dictionary as input returns a list of keys which sorted by their values."
   ]
  },
  {
   "cell_type": "code",
   "execution_count": 15,
   "metadata": {},
   "outputs": [
    {
     "ename": "SyntaxError",
     "evalue": "invalid syntax (Temp/ipykernel_15164/3186610517.py, line 2)",
     "output_type": "error",
     "traceback": [
      "\u001b[1;36m  File \u001b[1;32m\"C:\\Users\\olive\\AppData\\Local\\Temp/ipykernel_15164/3186610517.py\"\u001b[1;36m, line \u001b[1;32m2\u001b[0m\n\u001b[1;33m    return sorted((v:k) for k,v in x.items())\u001b[0m\n\u001b[1;37m                    ^\u001b[0m\n\u001b[1;31mSyntaxError\u001b[0m\u001b[1;31m:\u001b[0m invalid syntax\n"
     ]
    }
   ],
   "source": [
    "def RankK(x):\n",
    "    return sorted((v,k) for k,v in x.items())\n",
    "    \n",
    "print(RankK({\"a\": 7, \"b\": 5, \"c\": 9}))"
   ]
  },
  {
   "cell_type": "code",
   "execution_count": 8,
   "metadata": {},
   "outputs": [
    {
     "name": "stdout",
     "output_type": "stream",
     "text": [
      "['a', 'b', 'c']\n"
     ]
    }
   ],
   "source": [
    "dict={\"a\": 7, \"b\": 5, \"c\": 9}\n",
    "print(sorted(dict))"
   ]
  }
 ],
 "metadata": {
  "anaconda-cloud": {},
  "kernelspec": {
   "display_name": "Python 3 (ipykernel)",
   "language": "python",
   "name": "python3"
  },
  "language_info": {
   "codemirror_mode": {
    "name": "ipython",
    "version": 3
   },
   "file_extension": ".py",
   "mimetype": "text/x-python",
   "name": "python",
   "nbconvert_exporter": "python",
   "pygments_lexer": "ipython3",
   "version": "3.9.7"
  }
 },
 "nbformat": 4,
 "nbformat_minor": 1
}
